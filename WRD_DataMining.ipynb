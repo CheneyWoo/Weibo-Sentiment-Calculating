{
 "cells": [
  {
   "cell_type": "code",
   "execution_count": 5,
   "metadata": {},
   "outputs": [],
   "source": [
    "from snownlp import SnowNLP\n",
    "s = SnowNLP(content_list[8])\n",
    "for sentence in s.sentences:\n",
    "    print sentence"
   ]
  },
  {
   "cell_type": "code",
   "execution_count": 6,
   "metadata": {},
   "outputs": [
    {
     "data": {
      "text/plain": [
       "0.5"
      ]
     },
     "execution_count": 6,
     "metadata": {},
     "output_type": "execute_result"
    }
   ],
   "source": [
    "s1 = SnowNLP(s.sentences[0])\n",
    "s1.sentiments"
   ]
  },
  {
   "cell_type": "code",
   "execution_count": 1,
   "metadata": {},
   "outputs": [],
   "source": [
    "from collections import defaultdict\n",
    "import os\n",
    "import re\n",
    "import codecs\n",
    "import sys\n",
    "reload(sys)\n",
    "sys.setdefaultencoding(\"utf-8\")"
   ]
  },
  {
   "cell_type": "code",
   "execution_count": 57,
   "metadata": {},
   "outputs": [],
   "source": [
    "#coding=utf-8\n",
    "import pandas as pd\n",
    "import numpy as np\n",
    "import csv\n",
    "\n",
    "df1 = pd.read_csv('Kunshan_Case/凤凰网视频.csv')\n",
    "content_list = list(df1['转发微博内容'])[8000:]"
   ]
  },
  {
   "cell_type": "code",
   "execution_count": 58,
   "metadata": {},
   "outputs": [],
   "source": [
    "import math\n",
    "for i in range(len(content_list)):\n",
    "    if isinstance(content_list[i],float) and math.isnan(float(content_list[i])):\n",
    "        print i,content_list[i]\n",
    "        content_list[i] = 0"
   ]
  },
  {
   "cell_type": "code",
   "execution_count": 59,
   "metadata": {},
   "outputs": [],
   "source": [
    "for i in range(140, len(content_list)):\n",
    "    content_list[i] = re.sub(r'//.*:','。',content_list[i])\n",
    "    content_list[i] = re.sub(r'//.*：','。',content_list[i])\n",
    "    #print i,content_list[i]"
   ]
  },
  {
   "cell_type": "code",
   "execution_count": 60,
   "metadata": {},
   "outputs": [],
   "source": [
    "import jieba\n",
    "seg_list = jieba.cut(\"你今天有点美\", cut_all = False)\n",
    "content_str = \"/ \".join(seg_list)\n",
    "print content_str"
   ]
  },
  {
   "cell_type": "code",
   "execution_count": 61,
   "metadata": {},
   "outputs": [],
   "source": [
    "result_list = []\n",
    "for i in range(len(content_list)):\n",
    "    if isinstance(content_list[i], str):\n",
    "        seg_list = jieba.cut(content_list[i].decode('utf-8'), cut_all = False)\n",
    "    content_str = \"/ \".join(seg_list)\n",
    "    print content_str\n",
    "    temp_list = content_str.split('/')\n",
    "    result_list.append(temp_list)"
   ]
  },
  {
   "cell_type": "code",
   "execution_count": 62,
   "metadata": {},
   "outputs": [],
   "source": [
    "#情感词\n",
    "emotionDict = defaultdict()\n",
    "emotionList = open('myDict/emotion_dict.txt', 'rw+')\n",
    "lines = emotionList.readlines()\n",
    "for item in lines:\n",
    "    emotionDict[item.split('\\t')[0]] = item.split('\\t')[1][:-2]\n",
    "del emotionDict['']\n",
    "#否定词\n",
    "notDict = defaultdict()\n",
    "notList = open('myDict/not_dict.txt', 'rw+')\n",
    "lines = notList.readlines()\n",
    "for item in lines:\n",
    "    notDict[item[:-1]] = -1\n",
    "#程度副词\n",
    "degreeDict = defaultdict()\n",
    "degreeList = open('myDict/degree_dict.txt', 'rw+')\n",
    "lines = degreeList.readlines()\n",
    "for item in lines:\n",
    "    degreeDict[item.split('\\t')[0]] = item.split('\\t')[1][:-2]\n",
    "#结尾语气\n",
    "puncDict = defaultdict()\n",
    "puncDict['？'] = -1.5\n",
    "puncDict['！'] = 2\n",
    "puncDict['~'] = 1.2\n",
    "puncDict['?'] = -1.5\n",
    "puncDict['!'] = 2\n",
    "#停顿\n",
    "f = open('myDict/stop_dict.txt', 'rw+')\n",
    "stopList = f.readlines()\n",
    "for i in range(len(stopList)):\n",
    "    stopList[i] = stopList[i][:-1]"
   ]
  },
  {
   "cell_type": "code",
   "execution_count": 63,
   "metadata": {},
   "outputs": [],
   "source": [
    "#计算句子得分\n",
    "def SentScore(sentence):\n",
    "    Score = 0\n",
    "    emotion = 0\n",
    "    degree = 1\n",
    "    notword = 0\n",
    "    punc = 0\n",
    "    for word in sentence:\n",
    "        word = word[1:]\n",
    "        if word not in stopList:\n",
    "            if word in emotionDict.keys() and word not in notDict.keys() and word not in degreeDict.keys():\n",
    "                emotion += float(emotionDict[word.encode('utf-8')])\n",
    "                #print \"emotion:\",word,float(emotionDict[word.encode('utf-8')])\n",
    "            elif word in notDict.keys() and word not in degreeDict.keys():\n",
    "                notword = -1\n",
    "                #print \"not:\", word\n",
    "            elif word in degreeDict.keys():\n",
    "                degree += float(degreeDict[word.encode('utf-8')])\n",
    "                #print \"degree:\", float(degreeDict[word.encode('utf-8')])\n",
    "            else:\n",
    "                continue\n",
    "        elif word in stopList:\n",
    "            #print \"stop\"\n",
    "            if word in puncDict.keys():\n",
    "                punc += float(puncDict[word.encode('utf-8')])\n",
    "                #print \"punc:\", word, float(puncDict[word.encode('utf-8')])\n",
    "            Score += ((-1)**notword)*degree*emotion+punc\n",
    "    return Score"
   ]
  },
  {
   "cell_type": "code",
   "execution_count": 64,
   "metadata": {},
   "outputs": [],
   "source": [
    "SentResult = []\n",
    "for i in range(len(result_list)):\n",
    "    result = SentScore(result_list[i])\n",
    "    SentResult.append(result)\n",
    "    print i,result\n",
    "print \"Finished\""
   ]
  },
  {
   "cell_type": "code",
   "execution_count": 65,
   "metadata": {},
   "outputs": [],
   "source": [
    "import xlrd \n",
    "import xlwt\n",
    "\n",
    "f = xlwt.Workbook()\n",
    "sheet1 = f.add_sheet(u'sheet1',cell_overwrite_ok=True) \n",
    "for i in range(len(SentResult)):\n",
    "    #SentResult[i] = MaxMinNormalization(SentResult[i], max(SentResult), min(SentResult))\n",
    "    sheet1.write(i,0,SentResult[i])\n",
    "print \"Finished\"\n",
    "f.save('result.xls')"
   ]
  },
  {
   "cell_type": "code",
   "execution_count": 18,
   "metadata": {},
   "outputs": [],
   "source": [
    "def MaxMinNormalization(x, Max, Min):\n",
    "    if x>0:\n",
    "        x = ((x) / Max)*10\n",
    "    elif x<0:\n",
    "        x = -(x) / (Min)*10\n",
    "    elif x==0:\n",
    "        x = 0\n",
    "    return x\n",
    "print SentResult[9]\n",
    "print MaxMinNormalization(SentResult[9], max(SentResult), min(SentResult))"
   ]
  },
  {
   "cell_type": "code",
   "execution_count": null,
   "metadata": {},
   "outputs": [],
   "source": []
  }
 ],
 "metadata": {
  "kernelspec": {
   "display_name": "Python 2",
   "language": "python",
   "name": "python2"
  },
  "language_info": {
   "codemirror_mode": {
    "name": "ipython",
    "version": 2
   },
   "file_extension": ".py",
   "mimetype": "text/x-python",
   "name": "python",
   "nbconvert_exporter": "python",
   "pygments_lexer": "ipython2",
   "version": "2.7.15"
  }
 },
 "nbformat": 4,
 "nbformat_minor": 2
}
